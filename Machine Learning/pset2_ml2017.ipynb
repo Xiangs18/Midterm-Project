{
 "cells": [
  {
   "cell_type": "markdown",
   "metadata": {},
   "source": [
    "# Problem Set 2: Classification\n",
    "\n",
    "To run and solve this assignment, one must have a working IPython Notebook installation. The easiest way to set it up for both Windows and Linux is to install [Anaconda](https://www.continuum.io/downloads). Then save this file to your computer (use \"Raw\" link on gist\\github), run Anaconda and choose this file in Anaconda's file explorer. Use `Python 3` version. Below statements assume that you have already followed these instructions. If you are new to Python or its scientific library, Numpy, there are some nice tutorials [here](https://www.learnpython.org/) and [here](http://www.scipy-lectures.org/).\n",
    "\n",
    "To run code in a cell or to render [Markdown](https://en.wikipedia.org/wiki/Markdown)+[LaTeX](https://en.wikipedia.org/wiki/LaTeX) press `Ctr+Enter` or `[>|]`(like \"play\") button above. To edit any code or text cell [double]click on its content. To change cell type, choose \"Markdown\" or \"Code\" in the drop-down menu above.\n",
    "\n",
    "If a certain output is given for some cells, that means that you are expected to get similar results in order to receive full points (small deviations are fine). For some parts we have already written the code for you. You should read it closely and understand what it does.\n",
    "\n",
    "Total: 100 points."
   ]
  },
  {
   "cell_type": "markdown",
   "metadata": {},
   "source": [
    "### 1. Logistic Regression\n",
    "\n",
    "In this part of the exercise, you will build a logistic regression model to predict whether a student\n",
    "gets admitted into a university.\n",
    "\n",
    "Suppose that you are the administrator of a university department and you want to determine\n",
    "each applicant’s chance of admission based on their results on two exams. You have historical\n",
    "data from previous applicants in *ex2data1.txt* that you can use as a training set for logistic regression. For each\n",
    "training example, you have the applicant’s scores on two exams and the admissions decision.\n",
    "\n",
    "Your task is to build a classification model that estimates an applicant’s probability of admission based on the scores from those two exams. This outline and code framework will guide you through the exercise.\n",
    "\n",
    "**1\\.1 Implementation**"
   ]
  },
  {
   "cell_type": "code",
   "execution_count": 1,
   "metadata": {
    "collapsed": true
   },
   "outputs": [],
   "source": [
    "%matplotlib inline\n",
    "import numpy as np\n",
    "import matplotlib.pyplot as plt"
   ]
  },
  {
   "cell_type": "markdown",
   "metadata": {},
   "source": [
    "**1.1.1 Visualizing the data**\n",
    "\n",
    "Before starting to implement any learning algorithm, it is always good to visualize the data if possible. This first part of the code will load the data and display it on a 2-dimensional plot by calling the function plotData. The axes are the two exam scores, and the positive and negative examples are shown with different markers."
   ]
  },
  {
   "cell_type": "code",
   "execution_count": 2,
   "metadata": {},
   "outputs": [
    {
     "name": "stdout",
     "output_type": "stream",
     "text": [
      "[[  1.          34.62365962  78.02469282]\n",
      " [  1.          30.28671077  43.89499752]\n",
      " [  1.          35.84740877  72.90219803]\n",
      " [  1.          60.18259939  86.3085521 ]\n",
      " [  1.          79.03273605  75.34437644]\n",
      " [  1.          45.08327748  56.31637178]\n",
      " [  1.          61.10666454  96.51142588]\n",
      " [  1.          75.02474557  46.55401354]\n",
      " [  1.          76.0987867   87.42056972]\n",
      " [  1.          84.43281996  43.53339331]\n",
      " [  1.          95.86155507  38.22527806]\n",
      " [  1.          75.01365839  30.60326323]\n",
      " [  1.          82.30705337  76.4819633 ]\n",
      " [  1.          69.36458876  97.71869196]\n",
      " [  1.          39.53833914  76.03681085]\n",
      " [  1.          53.97105215  89.20735014]\n",
      " [  1.          69.07014406  52.74046973]\n",
      " [  1.          67.94685548  46.67857411]\n",
      " [  1.          70.66150955  92.92713789]\n",
      " [  1.          76.97878373  47.57596365]\n",
      " [  1.          67.37202755  42.83843832]\n",
      " [  1.          89.67677575  65.79936593]\n",
      " [  1.          50.53478829  48.85581153]\n",
      " [  1.          34.21206098  44.2095286 ]\n",
      " [  1.          77.92409145  68.97235999]\n",
      " [  1.          62.27101367  69.95445795]\n",
      " [  1.          80.19018075  44.82162893]\n",
      " [  1.          93.1143888   38.80067034]\n",
      " [  1.          61.83020602  50.25610789]\n",
      " [  1.          38.7858038   64.99568096]\n",
      " [  1.          61.37928945  72.80788731]\n",
      " [  1.          85.40451939  57.05198398]\n",
      " [  1.          52.10797973  63.12762377]\n",
      " [  1.          52.04540477  69.43286012]\n",
      " [  1.          40.23689374  71.16774802]\n",
      " [  1.          54.63510555  52.21388588]\n",
      " [  1.          33.91550011  98.86943574]\n",
      " [  1.          64.17698887  80.90806059]\n",
      " [  1.          74.78925296  41.57341523]\n",
      " [  1.          34.18364003  75.23772034]\n",
      " [  1.          83.90239366  56.30804622]\n",
      " [  1.          51.54772027  46.85629026]\n",
      " [  1.          94.44336777  65.56892161]\n",
      " [  1.          82.36875376  40.61825516]\n",
      " [  1.          51.04775177  45.82270146]\n",
      " [  1.          62.22267576  52.06099195]\n",
      " [  1.          77.19303493  70.4582    ]\n",
      " [  1.          97.77159928  86.72782233]\n",
      " [  1.          62.0730638   96.76882412]\n",
      " [  1.          91.5649745   88.69629255]\n",
      " [  1.          79.94481794  74.16311935]\n",
      " [  1.          99.27252693  60.999031  ]\n",
      " [  1.          90.54671411  43.39060181]\n",
      " [  1.          34.52451385  60.39634246]\n",
      " [  1.          50.28649612  49.80453881]\n",
      " [  1.          49.58667722  59.80895099]\n",
      " [  1.          97.64563396  68.86157272]\n",
      " [  1.          32.57720017  95.59854761]\n",
      " [  1.          74.24869137  69.82457123]\n",
      " [  1.          71.79646206  78.45356225]\n",
      " [  1.          75.39561147  85.75993667]\n",
      " [  1.          35.28611282  47.02051395]\n",
      " [  1.          56.2538175   39.26147251]\n",
      " [  1.          30.05882245  49.59297387]\n",
      " [  1.          44.66826172  66.45008615]\n",
      " [  1.          66.56089447  41.09209808]\n",
      " [  1.          40.45755098  97.53518549]\n",
      " [  1.          49.07256322  51.88321182]\n",
      " [  1.          80.27957401  92.11606081]\n",
      " [  1.          66.74671857  60.99139403]\n",
      " [  1.          32.72283304  43.30717306]\n",
      " [  1.          64.03932042  78.03168802]\n",
      " [  1.          72.34649423  96.22759297]\n",
      " [  1.          60.45788574  73.0949981 ]\n",
      " [  1.          58.84095622  75.85844831]\n",
      " [  1.          99.8278578   72.36925193]\n",
      " [  1.          47.26426911  88.475865  ]\n",
      " [  1.          50.4581598   75.80985953]\n",
      " [  1.          60.45555629  42.50840944]\n",
      " [  1.          82.22666158  42.71987854]\n",
      " [  1.          88.91389642  69.8037889 ]\n",
      " [  1.          94.83450672  45.6943068 ]\n",
      " [  1.          67.31925747  66.58935318]\n",
      " [  1.          57.23870632  59.51428198]\n",
      " [  1.          80.366756    90.9601479 ]\n",
      " [  1.          68.46852179  85.5943071 ]\n",
      " [  1.          42.07545454  78.844786  ]\n",
      " [  1.          75.47770201  90.424539  ]\n",
      " [  1.          78.63542435  96.64742717]\n",
      " [  1.          52.34800399  60.76950526]\n",
      " [  1.          94.09433113  77.15910509]\n",
      " [  1.          90.44855097  87.50879176]\n",
      " [  1.          55.48216114  35.57070347]\n",
      " [  1.          74.49269242  84.84513685]\n",
      " [  1.          89.84580671  45.35828361]\n",
      " [  1.          83.48916274  48.3802858 ]\n",
      " [  1.          42.26170081  87.10385094]\n",
      " [  1.          99.31500881  68.77540947]\n",
      " [  1.          55.34001756  64.93193801]\n",
      " [  1.          74.775893    89.5298129 ]]\n"
     ]
    }
   ],
   "source": [
    "datafile = 'ex2data1.txt'\n",
    "# Read in comma separated data in datafile\n",
    "cols = np.loadtxt(datafile,delimiter=',',usecols=(0,1,2),unpack=True)\n",
    "# Form the usual \"X\" data matrix and \"y\" label vector\n",
    "X = np.transpose(np.array(cols[:-1]))\n",
    "#print(X)\n",
    "y = np.transpose(np.array(cols[-1:]))\n",
    "#print(y)\n",
    "m = y.size # number of training examples\n",
    "#print(m)\n",
    "# Insert the usual column of 1's into the \"X\" matrix (for bias incorporation)\n",
    "X = np.insert(X,0,1,axis=1)\n",
    "print(X)"
   ]
  },
  {
   "cell_type": "code",
   "execution_count": 3,
   "metadata": {
    "collapsed": true
   },
   "outputs": [],
   "source": [
    "# Divide the sample into two: pos classification, neg classification\n",
    "#print(X.shape[0]) = 100 \n",
    "#print(X[0])\n",
    "pos = np.array([X[i] for i in range(X.shape[0]) if y[i] == 1])\n",
    "neg = np.array([X[i] for i in range(X.shape[0]) if y[i] == 0])\n",
    "#print(pos)\n",
    "#print(neg)"
   ]
  },
  {
   "cell_type": "code",
   "execution_count": 4,
   "metadata": {},
   "outputs": [
    {
     "data": {
      "image/png": "[encoded data removed]",
      "text/plain": [
       "<matplotlib.figure.Figure at 0x10ff9ce80>"
      ]
     },
     "metadata": {},
     "output_type": "display_data"
    }
   ],
   "source": [
    "def plotData():\n",
    "    plt.figure(figsize=(10,6))\n",
    "    plt.plot(pos[:,1],pos[:,2],'k+',label='Admitted')\n",
    "    plt.plot(neg[:,1],neg[:,2],'yo',label='Not admitted')\n",
    "    plt.xlabel('Exam 1 score')\n",
    "    plt.ylabel('Exam 2 score')\n",
    "    plt.legend()\n",
    "    plt.grid(True)\n",
    "    \n",
    "plotData()"
   ]
  },
  {
   "cell_type": "markdown",
   "metadata": {},
   "source": [
    "**1.1.2 [5pts] Sigmoid function** \n",
    "\n",
    "Before you start with the actual cost function, recall that the logistic regression hypothesis is defined as:\n",
    "\n",
    "$h_\\theta(x) = g(\\theta^Tx)$\n",
    "\n",
    "where function g is the sigmoid function. The sigmoid function is defined as:\n",
    "\n",
    "$g(z) = \\dfrac{1}{1+e^{-z}}$\n",
    "\n",
    "Your first step is to implement/find a sigmoid function so it can be called by the rest of your program. Your code should also work with vectors and matrices. For a matrix, your function should perform the sigmoid function on every element. \n",
    "\n",
    "When you are finished, (a) plot the sigmoid function, and (b) test the function with a scalar, a vector, and a matrix. For scalar large positive values of x, the sigmoid should be close to 1, while for scalar large negative values, the sigmoid should be close to 0. Evaluating sigmoid(0) should give you exactly 0.5."
   ]
  },
  {
   "cell_type": "code",
   "execution_count": 5,
   "metadata": {},
   "outputs": [
    {
     "name": "stdout",
     "output_type": "stream",
     "text": [
      "0.622459331202\n",
      "[ 0.50167321  0.62245933  0.72974065]\n",
      "[[ 0.50167321  0.62245933  0.72974065]\n",
      " [ 0.50001135  0.62245933  0.73104965]\n",
      " [ 0.52976549  0.62245933  0.70698737]]\n"
     ]
    },
    {
     "data": {
      "image/png": "[encoded data removed]",
      "text/plain": [
       "<matplotlib.figure.Figure at 0x11154f400>"
      ]
     },
     "metadata": {},
     "output_type": "display_data"
    }
   ],
   "source": [
    "from scipy.special import expit # Hint: Vectorized sigmoid function\n",
    "\n",
    "# -----------------------------------------------------------------\n",
    "\n",
    "def sigmoid(x):\n",
    "    \"\"\" Computes g(Z) \"\"\"\n",
    "    pred = expit(x)\n",
    "    return pred\n",
    "\n",
    "def graph():\n",
    "    x_start, x_end = -10, 11\n",
    "    y_start, y_end = 0, 1\n",
    "    plt.figure(figsize=(6,4))\n",
    "    x_ = np.arange(x_start, x_end).reshape((21,1))\n",
    "    y_output = sigmoid(x_)\n",
    "    plt.plot(x_, y_output, linestyle='solid')\n",
    "    plt.grid(True)\n",
    "    plt.title('sigmoid function')\n",
    "    plt.show()\n",
    "                    \n",
    "print(sigmoid(0.5))\n",
    "print(sigmoid([0.00669285,0.5,0.99330715]))\n",
    "print(sigmoid([[6.69285092e-03,5.00000000e-01,9.93307149e-01],[4.53978687e-05,5.00000000e-01,9.99954602e-01],[1.19202922e-01,5.00000000e-01,8.80797078e-01]]))\n",
    "graph()\n",
    "# -----------------------------------------------------------------"
   ]
  },
  {
   "cell_type": "markdown",
   "metadata": {},
   "source": [
    "**1.1.3 [15pts] Cost function and gradient**\n",
    "\n",
    "Now you will implement the cost function and gradient for logistic regression. Complete the code\n",
    "in the functions *h* and *computeCost* below to return the value of the hypothesis function and the cost, respectively. Recall that the cost function in logistic regression is\n",
    "\n",
    "$j(\\theta) \\ = \\ \\frac{1}{m} \\ \\sum_{i=1}^{m} \\ [ \\ -y^{(i)} log(h_\\theta(x^{(i)})) \\ - \\ (1 - y^{(i)})log(1-h_\\theta(x^{(i)})) \\ ]$\n",
    "\n",
    "and the gradient of the cost is a vector of the same length as $\\theta$ where the $j^{th}$ element (for $j = 0, 1,...,n$) is defined as follows:\n",
    "\n",
    "$\\frac{\\partial J(\\theta)}{\\partial \\theta_{j}} \\ = \\ \\frac{1}{m} \\ \\sum_{i=1}^{m} \\ (h_\\theta(x^{(i)})-y^{(i)}) x_j^{(i)}$\n",
    "\n",
    "where $m$ is the number of points and $n$ is the number of features. Note that while this gradient looks identical to the linear regression gradient, the formula is\n",
    "actually different because linear and logistic regression have different definitions of $h_\\theta(x)$.\n",
    "Once you are done, your costFunction will be called using the zeros as the initial parameters of $\\theta$. You\n",
    "should see that the cost is about 0.693. "
   ]
  },
  {
   "cell_type": "code",
   "execution_count": 9,
   "metadata": {
    "collapsed": true
   },
   "outputs": [],
   "source": [
    "# Hypothesis function and cost function for logistic regression\n",
    "def h(mytheta,myX): # Logistic hypothesis function\n",
    "    # -----------------------------------------------------------------\n",
    "    pred = myX.dot(mytheta)\n",
    "    result = sigmoid(pred)\n",
    "    return result\n",
    "    # -----------------------------------------------------------------\n",
    "\n",
    "# Cost function\n",
    "def computeCost(mytheta,myX,myy): \n",
    "    \"\"\"\n",
    "    mytheta is an n-dimensional vector of initial theta guess\n",
    "    myX is matrix with m-rows and n-columns\n",
    "    myy is a matrix with m-rows and 1-column\n",
    "    \"\"\"\n",
    "    # -----------------------------------------------------------------\n",
    "    lg1 = np.log(h(mytheta,myX))\n",
    "    lg2 = np.log(1 - h(mytheta,myX))\n",
    "    cost = (np.transpose(myy).dot(lg1) + np.transpose(1 - myy).dot(lg2)) * (-1/myX.shape[0])\n",
    "    return float(cost)\n",
    "    # -----------------------------------------------------------------"
   ]
  },
  {
   "cell_type": "code",
   "execution_count": 10,
   "metadata": {},
   "outputs": [
    {
     "data": {
      "text/plain": [
       "0.6931471805599452"
      ]
     },
     "execution_count": 10,
     "metadata": {},
     "output_type": "execute_result"
    }
   ],
   "source": [
    "# Check that with theta as zeros, cost is about 0.693:\n",
    "initial_theta = np.zeros((X.shape[1],1))\n",
    "computeCost(initial_theta,X,y)"
   ]
  },
  {
   "cell_type": "markdown",
   "metadata": {},
   "source": [
    "**1.1.4 Learning parameters using *fmin***\n",
    "\n",
    "In the previous assignment, you found the optimal parameters of a linear regression model by\n",
    "implementing gradient descent. You wrote a cost function and calculated its gradient, then took\n",
    "a gradient descent step accordingly. This time, instead of taking gradient descent steps, you will\n",
    "use a scipy.optimize built-in function called *fmin*.\n",
    "\n",
    "The final $\\theta$ value will then be used to plot the\n",
    "decision boundary on the training data, as seen in the figure below."
   ]
  },
  {
   "cell_type": "code",
   "execution_count": 11,
   "metadata": {
    "collapsed": true
   },
   "outputs": [],
   "source": [
    "# Note \"fmin\" does not need to be told explicitly the derivative terms\n",
    "# It only needs the cost function, and it minimizes with the \"downhill simplex algorithm.\"\n",
    "# http://docs.scipy.org/doc/scipy-0.16.0/reference/generated/scipy.optimize.fmin.html\n",
    "from scipy import optimize\n",
    "\n",
    "def optimizeTheta(mytheta,myX,myy,mylambda=0.):\n",
    "    result = optimize.fmin(computeCost, x0=mytheta, args=(myX, myy), maxiter=400, full_output=True)\n",
    "    return result[0], result[1]"
   ]
  },
  {
   "cell_type": "code",
   "execution_count": 12,
   "metadata": {},
   "outputs": [
    {
     "name": "stdout",
     "output_type": "stream",
     "text": [
      "Optimization terminated successfully.\n",
      "         Current function value: 0.203498\n",
      "         Iterations: 157\n",
      "         Function evaluations: 287\n"
     ]
    }
   ],
   "source": [
    "theta, mincost = optimizeTheta(initial_theta,X,y)"
   ]
  },
  {
   "cell_type": "code",
   "execution_count": 13,
   "metadata": {},
   "outputs": [
    {
     "name": "stdout",
     "output_type": "stream",
     "text": [
      "0.2034977015902151\n"
     ]
    }
   ],
   "source": [
    "# Call your costFunction function using the optimal parameters of θ. \n",
    "# You should see that the cost is about 0.203.\n",
    "# print(theta)\n",
    "print(computeCost(theta,X,y))"
   ]
  },
  {
   "cell_type": "code",
   "execution_count": 11,
   "metadata": {},
   "outputs": [
    {
     "data": {
      "text/plain": [
       "<matplotlib.legend.Legend at 0x111facc50>"
      ]
     },
     "execution_count": 11,
     "metadata": {},
     "output_type": "execute_result"
    },
    {
     "data": {
      "image/png": "[encoded data removed]",
      "text/plain": [
       "<matplotlib.figure.Figure at 0x111f647b8>"
      ]
     },
     "metadata": {},
     "output_type": "display_data"
    }
   ],
   "source": [
    "# Plotting the decision boundary: two points, draw a line between\n",
    "# Decision boundary occurs when h = 0, or when\n",
    "# theta0 + theta1*x1 + theta2*x2 = 0\n",
    "# y=mx+b is replaced by x2 = (-1/theta2)(theta0 + theta1*x1)\n",
    "\n",
    "boundary_xs = np.array([np.min(X[:,1]), np.max(X[:,1])])\n",
    "boundary_ys = (-1./theta[2])*(theta[0] + theta[1]*boundary_xs)\n",
    "plotData()\n",
    "plt.plot(boundary_xs,boundary_ys,'b-',label='Decision Boundary')\n",
    "plt.legend()"
   ]
  },
  {
   "cell_type": "markdown",
   "metadata": {},
   "source": [
    "**1.1.5 [15pts] Evaluating logistic regression**\n",
    "\n",
    "After learning the parameters, you can use the model to predict whether a particular student will\n",
    "be admitted. \n",
    "\n",
    "(a) [5pts] Show that for a student with an Exam 1 score of 45 and an Exam 2 score of 85, you should\n",
    "expect to see an admission probability of 0.776.\n",
    "\n",
    "Another way to evaluate the quality of the parameters we have found is to see how well the\n",
    "learned model predicts on our training set. \n",
    "\n",
    "(b) [10 pts] In this part, your task is to complete the code in\n",
    "*makePrediction*. The predict function will produce “1” or “0” predictions given a dataset and a learned\n",
    "parameter vector $\\theta$. After you have completed the code, the script below will proceed to report the\n",
    "training accuracy of your classifier by computing the percentage of examples it got correct. You\n",
    "should also see a Training Accuracy of 89.0. "
   ]
  },
  {
   "cell_type": "code",
   "execution_count": 12,
   "metadata": {},
   "outputs": [
    {
     "name": "stdout",
     "output_type": "stream",
     "text": [
      "0.776291590411\n"
     ]
    }
   ],
   "source": [
    "# For a student with an Exam 1 score of 45 and an Exam 2 score of 85, \n",
    "# you should expect to see an admission probability of 0.776.\n",
    "\n",
    "# -----------------------------------------------------------------\n",
    "myX = np.array([1,45,85])\n",
    "print(h(theta,myX))\n",
    "# -----------------------------------------------------------------"
   ]
  },
  {
   "cell_type": "code",
   "execution_count": 14,
   "metadata": {},
   "outputs": [
    {
     "name": "stdout",
     "output_type": "stream",
     "text": [
      "Fraction of training samples correctly predicted: 0.890000.\n"
     ]
    }
   ],
   "source": [
    "def makePrediction(mytheta, myx):\n",
    "    # -----------------------------------------------------------------\n",
    "    init = np.zeros(myx.shape[0])\n",
    "    for i in range(myx.shape[0]):\n",
    "        if h(mytheta,myx)[i] >= 0.5:\n",
    "            init[i] = 1\n",
    "    return init\n",
    "    # -----------------------------------------------------------------\n",
    "# Compute the percentage of samples I got correct:\n",
    "pos_correct = float(np.sum(makePrediction(theta,pos)))\n",
    "neg_correct = float(neg.shape[0] - np.sum((makePrediction(theta,neg))))\n",
    "tot = len(pos)+len(neg)\n",
    "prcnt_correct = float(pos_correct+neg_correct)/tot\n",
    "print(\"Fraction of training samples correctly predicted: %f.\" % prcnt_correct)"
   ]
  },
  {
   "cell_type": "markdown",
   "metadata": {},
   "source": [
    "### 2. Regularized logistic regression\n",
    "\n",
    "In this part of the exercise, you will implement regularized logistic regression to predict whether microchips from a fabrication plant pass quality assurance (QA). During QA, each microchip goes through various tests to ensure it is functioning correctly. Suppose you are the product manager of the factory and you have the test results for some microchips on two different tests. From these two tests, you would like to determine whether the microchips should be accepted or rejected. To help you make the decision, you have a dataset of test results on past microchips in *ex2data2.txt*, from which you can build a logistic regression model."
   ]
  },
  {
   "cell_type": "markdown",
   "metadata": {},
   "source": [
    "**2.1 Visualizing the data**\n",
    "\n",
    "Similar to the previous parts of this exercise, plotData is used to generate the figure below,\n",
    "where the axes are the two test scores, and the positive (y = 1, accepted) and negative (y = 0,\n",
    "rejected) examples are shown with different markers.\n",
    "\n",
    "The figure below shows that our dataset cannot be separated into positive and negative examples by a\n",
    "straight line. Therefore, a straightforward application of logistic regression will not perform well on this dataset since logistic regression will only be able to find a linear decision boundary."
   ]
  },
  {
   "cell_type": "code",
   "execution_count": 14,
   "metadata": {
    "collapsed": true
   },
   "outputs": [],
   "source": [
    "datafile = 'ex2data2.txt'\n",
    "# Read in comma separated data\n",
    "cols = np.loadtxt(datafile,delimiter=',',usecols=(0,1,2),unpack=True) \n",
    "# Form the usual \"X\" data matrix and \"y\" label vector\n",
    "X = np.transpose(np.array(cols[:-1]))\n",
    "y = np.transpose(np.array(cols[-1:]))\n",
    "m = y.size # number of training examples\n",
    "# Insert the usual column of 1's into the \"X\" matrix (for bias incorporation)\n",
    "X = np.insert(X,0,1,axis=1)"
   ]
  },
  {
   "cell_type": "code",
   "execution_count": 15,
   "metadata": {},
   "outputs": [
    {
     "name": "stdout",
     "output_type": "stream",
     "text": [
      "[[ 1.         0.051267   0.69956  ]\n",
      " [ 1.        -0.092742   0.68494  ]\n",
      " [ 1.        -0.21371    0.69225  ]\n",
      " [ 1.        -0.375      0.50219  ]\n",
      " [ 1.        -0.51325    0.46564  ]\n",
      " [ 1.        -0.52477    0.2098   ]\n",
      " [ 1.        -0.39804    0.034357 ]\n",
      " [ 1.        -0.30588   -0.19225  ]\n",
      " [ 1.         0.016705  -0.40424  ]\n",
      " [ 1.         0.13191   -0.51389  ]\n",
      " [ 1.         0.38537   -0.56506  ]\n",
      " [ 1.         0.52938   -0.5212   ]\n",
      " [ 1.         0.63882   -0.24342  ]\n",
      " [ 1.         0.73675   -0.18494  ]\n",
      " [ 1.         0.54666    0.48757  ]\n",
      " [ 1.         0.322      0.5826   ]\n",
      " [ 1.         0.16647    0.53874  ]\n",
      " [ 1.        -0.046659   0.81652  ]\n",
      " [ 1.        -0.17339    0.69956  ]\n",
      " [ 1.        -0.47869    0.63377  ]\n",
      " [ 1.        -0.60541    0.59722  ]\n",
      " [ 1.        -0.62846    0.33406  ]\n",
      " [ 1.        -0.59389    0.005117 ]\n",
      " [ 1.        -0.42108   -0.27266  ]\n",
      " [ 1.        -0.11578   -0.39693  ]\n",
      " [ 1.         0.20104   -0.60161  ]\n",
      " [ 1.         0.46601   -0.53582  ]\n",
      " [ 1.         0.67339   -0.53582  ]\n",
      " [ 1.        -0.13882    0.54605  ]\n",
      " [ 1.        -0.29435    0.77997  ]\n",
      " [ 1.        -0.26555    0.96272  ]\n",
      " [ 1.        -0.16187    0.8019   ]\n",
      " [ 1.        -0.17339    0.64839  ]\n",
      " [ 1.        -0.28283    0.47295  ]\n",
      " [ 1.        -0.36348    0.31213  ]\n",
      " [ 1.        -0.30012    0.027047 ]\n",
      " [ 1.        -0.23675   -0.21418  ]\n",
      " [ 1.        -0.06394   -0.18494  ]\n",
      " [ 1.         0.062788  -0.16301  ]\n",
      " [ 1.         0.22984   -0.41155  ]\n",
      " [ 1.         0.2932    -0.2288   ]\n",
      " [ 1.         0.48329   -0.18494  ]\n",
      " [ 1.         0.64459   -0.14108  ]\n",
      " [ 1.         0.46025    0.012427 ]\n",
      " [ 1.         0.6273     0.15863  ]\n",
      " [ 1.         0.57546    0.26827  ]\n",
      " [ 1.         0.72523    0.44371  ]\n",
      " [ 1.         0.22408    0.52412  ]\n",
      " [ 1.         0.44297    0.67032  ]\n",
      " [ 1.         0.322      0.69225  ]\n",
      " [ 1.         0.13767    0.57529  ]\n",
      " [ 1.        -0.0063364  0.39985  ]\n",
      " [ 1.        -0.092742   0.55336  ]\n",
      " [ 1.        -0.20795    0.35599  ]\n",
      " [ 1.        -0.20795    0.17325  ]\n",
      " [ 1.        -0.43836    0.21711  ]\n",
      " [ 1.        -0.21947   -0.016813 ]\n",
      " [ 1.        -0.13882   -0.27266  ]]\n",
      "[[ 1.         0.18376    0.93348  ]\n",
      " [ 1.         0.22408    0.77997  ]\n",
      " [ 1.         0.29896    0.61915  ]\n",
      " [ 1.         0.50634    0.75804  ]\n",
      " [ 1.         0.61578    0.7288   ]\n",
      " [ 1.         0.60426    0.59722  ]\n",
      " [ 1.         0.76555    0.50219  ]\n",
      " [ 1.         0.92684    0.3633   ]\n",
      " [ 1.         0.82316    0.27558  ]\n",
      " [ 1.         0.96141    0.085526 ]\n",
      " [ 1.         0.93836    0.012427 ]\n",
      " [ 1.         0.86348   -0.082602 ]\n",
      " [ 1.         0.89804   -0.20687  ]\n",
      " [ 1.         0.85196   -0.36769  ]\n",
      " [ 1.         0.82892   -0.5212   ]\n",
      " [ 1.         0.79435   -0.55775  ]\n",
      " [ 1.         0.59274   -0.7405   ]\n",
      " [ 1.         0.51786   -0.5943   ]\n",
      " [ 1.         0.46601   -0.41886  ]\n",
      " [ 1.         0.35081   -0.57968  ]\n",
      " [ 1.         0.28744   -0.76974  ]\n",
      " [ 1.         0.085829  -0.75512  ]\n",
      " [ 1.         0.14919   -0.57968  ]\n",
      " [ 1.        -0.13306   -0.4481   ]\n",
      " [ 1.        -0.40956   -0.41155  ]\n",
      " [ 1.        -0.39228   -0.25804  ]\n",
      " [ 1.        -0.74366   -0.25804  ]\n",
      " [ 1.        -0.69758    0.041667 ]\n",
      " [ 1.        -0.75518    0.2902   ]\n",
      " [ 1.        -0.69758    0.68494  ]\n",
      " [ 1.        -0.4038     0.70687  ]\n",
      " [ 1.        -0.38076    0.91886  ]\n",
      " [ 1.        -0.50749    0.90424  ]\n",
      " [ 1.        -0.54781    0.70687  ]\n",
      " [ 1.         0.10311    0.77997  ]\n",
      " [ 1.         0.057028   0.91886  ]\n",
      " [ 1.        -0.10426    0.99196  ]\n",
      " [ 1.        -0.081221   1.1089   ]\n",
      " [ 1.         0.28744    1.087    ]\n",
      " [ 1.         0.39689    0.82383  ]\n",
      " [ 1.         0.63882    0.88962  ]\n",
      " [ 1.         0.82316    0.66301  ]\n",
      " [ 1.         0.67339    0.64108  ]\n",
      " [ 1.         1.0709     0.10015  ]\n",
      " [ 1.        -0.046659  -0.57968  ]\n",
      " [ 1.        -0.23675   -0.63816  ]\n",
      " [ 1.        -0.15035   -0.36769  ]\n",
      " [ 1.        -0.49021   -0.3019   ]\n",
      " [ 1.        -0.46717   -0.13377  ]\n",
      " [ 1.        -0.28859   -0.060673 ]\n",
      " [ 1.        -0.61118   -0.067982 ]\n",
      " [ 1.        -0.66302   -0.21418  ]\n",
      " [ 1.        -0.59965   -0.41886  ]\n",
      " [ 1.        -0.72638   -0.082602 ]\n",
      " [ 1.        -0.83007    0.31213  ]\n",
      " [ 1.        -0.72062    0.53874  ]\n",
      " [ 1.        -0.59389    0.49488  ]\n",
      " [ 1.        -0.48445    0.99927  ]\n",
      " [ 1.        -0.0063364  0.99927  ]\n",
      " [ 1.         0.63265   -0.030612 ]]\n"
     ]
    }
   ],
   "source": [
    "# Divide the sample into two: pos classification, neg classification\n",
    "pos = np.array([X[i] for i in range(X.shape[0]) if y[i] == 1])\n",
    "neg = np.array([X[i] for i in range(X.shape[0]) if y[i] == 0])\n",
    "print(pos)\n",
    "print(neg)"
   ]
  },
  {
   "cell_type": "code",
   "execution_count": 16,
   "metadata": {},
   "outputs": [
    {
     "data": {
      "image/png": "[encoded data removed]",
      "text/plain": [
       "<matplotlib.figure.Figure at 0x10d2adbe0>"
      ]
     },
     "metadata": {},
     "output_type": "display_data"
    }
   ],
   "source": [
    "def plotData():\n",
    "    plt.plot(pos[:,1],pos[:,2],'k+',label='y=1')\n",
    "    plt.plot(neg[:,1],neg[:,2],'yo',label='y=0')\n",
    "    plt.xlabel('Microchip Test 1')\n",
    "    plt.ylabel('Microchip Test 2')\n",
    "    plt.legend()\n",
    "    plt.grid(True)\n",
    "\n",
    "# Square plot to emphasize circular features\n",
    "plt.figure(figsize=(6,6))\n",
    "plotData()"
   ]
  },
  {
   "cell_type": "markdown",
   "metadata": {},
   "source": [
    "**2.2 Nonlinear feature mapping**\n",
    "\n",
    "One way to fit the data better is to create more features from each data point. In *mapFeature* below, we will map the features into all polynomial terms of $x_1$ and $x_2$ up to the\n",
    "sixth power as follows:\n",
    "\n",
    "\\begin{equation}\n",
    "mapFeature(x) \\ = \\\n",
    "\\begin{bmatrix}\n",
    "    1 \\\\\n",
    "    x_1 \\\\\n",
    "    x_2 \\\\\n",
    "    x_1^2 \\\\\n",
    "    x_1x_2 \\\\\n",
    "    x_2^2 \\\\\n",
    "    x_1^3 \\\\\n",
    "    \\vdots \\\\\n",
    "    x_1x_2^5 \\\\\n",
    "    x_2^6 \\\\\n",
    "\\end{bmatrix}\n",
    "\\end{equation}\n",
    "\n",
    "As a result of this mapping, our vector of two features (the scores\n",
    "on two QA tests) has been transformed into a 28-dimensional\n",
    "vector. A logistic regression classifier trained on this\n",
    "higher-dimension feature vector will have a more complex\n",
    "decision boundary and will appear nonlinear when drawn in our\n",
    "2-dimensional plot.\n",
    "While the feature mapping allows us to build a more expressive\n",
    "classifier, it is also more susceptible to overfitting. In the next parts\n",
    "of the exercise, you will implement regularized logistic regression\n",
    "to fit the data and also see for yourself how regularization can help combat the overfitting problem.\n"
   ]
  },
  {
   "cell_type": "code",
   "execution_count": 18,
   "metadata": {
    "collapsed": true
   },
   "outputs": [],
   "source": [
    "def mapFeature( x1col, x2col ):\n",
    "    \"\"\" \n",
    "    Function that takes in a column of n- x1's, a column of n- x2s, and builds\n",
    "    a nx28-dim matrix of featuers\n",
    "    \"\"\"\n",
    "    degrees = 6\n",
    "    out = np.ones( (x1col.shape[0], 1) )\n",
    "\n",
    "    for i in range(1, degrees+1):\n",
    "        for j in range(0, i+1):\n",
    "            term1 = x1col ** (i-j)\n",
    "            term2 = x2col ** (j)\n",
    "            term  = (term1 * term2).reshape( term1.shape[0], 1 ) \n",
    "            out   = np.hstack(( out, term ))\n",
    "    return out"
   ]
  },
  {
   "cell_type": "code",
   "execution_count": 19,
   "metadata": {
    "collapsed": true
   },
   "outputs": [],
   "source": [
    "# Create feature-mapped X matrix\n",
    "mappedX = mapFeature(X[:,1],X[:,2])"
   ]
  },
  {
   "cell_type": "markdown",
   "metadata": {},
   "source": [
    "**2.3 Cost function and gradient**\n",
    "\n",
    "Now you will implement code to compute the cost function and gradient for regularized logistic\n",
    "regression. Recall that the regularized cost function in logistic regression is:\n",
    "\n",
    "$j(\\theta) \\ = \\ [ \\ \\frac{1}{m} \\ \\sum_{i=1}^{m} \\ [ \\ -y^{(i)} log(h_\\theta(x^{(i)})) \\ - \\ (1 - y^{(i)})log(1-h_\\theta(x^{(i)})) \\ ] \\ ] \\ + \\frac{\\lambda}{2m} \\sum_{j=1}^{n} \\theta_j^2 $\n",
    "\n",
    "Note that you should not regularize the parameter $\\theta_0$ (Why not? Think about why that would be a bad idea).\n",
    "\n",
    "The gradient of the cost function is a vector where the j element is defined as follows (you should understand how to obtain this expression):\n",
    "\n",
    "$\\frac{\\partial J(\\theta)}{\\partial \\theta_{0}} \\ = \\ \\frac{1}{m} \\ \\sum_{i=1}^{m} \\ (h_\\theta(x^{(i)})-y^{(i)}) x_j^{(i)} \\quad \\quad \\quad \\quad \\quad \\quad$ for $\\quad j=0$\n",
    "\n",
    "$\\frac{\\partial J(\\theta)}{\\partial \\theta_{j}} \\ = \\ (\\frac{1}{m} \\ \\sum_{i=1}^{m} \\ (h_\\theta(x^{(i)})-y^{(i)}) x_j^{(i)}) + \\frac{\\lambda}{m}\\theta_j \\quad \\quad \\quad$ for $\\quad j \\ge 1$"
   ]
  },
  {
   "cell_type": "markdown",
   "metadata": {},
   "source": [
    "**2.3.1 [10pts] Implementing regularized logistic regression**\n",
    "\n",
    "Re-implement computeCost with regularization."
   ]
  },
  {
   "cell_type": "code",
   "execution_count": 22,
   "metadata": {
    "collapsed": true
   },
   "outputs": [],
   "source": [
    "# Cost function, default lambda (regularization) 0\n",
    "def computeCost(mytheta,myX,myy,mylambda = 0.): \n",
    "    \"\"\"\n",
    "    mytheta is an n-dimensional vector of initial theta guess\n",
    "    myX is matrix with n-columns and m-rows\n",
    "    myy is a matrix with m-rows and 1-column\n",
    "    This includes regularization if you set mylambda to nonzero\n",
    "    \"\"\"\n",
    "    # -----------------------------------------------------------------\n",
    "    lg1 = np.log(h(mytheta,myX))\n",
    "    lg2 = np.log(1 - h(mytheta,myX))\n",
    "    cost1 = (np.transpose(myy).dot(lg1) + np.transpose(1 - myy).dot(lg2)) * (-1/myX.shape[0])\n",
    "    cost2 = (mylambda / (2 * m)) * (np.transpose(mytheta).dot(mytheta))\n",
    "    cost = cost1 + cost2\n",
    "    return float(cost)\n",
    "    # -----------------------------------------------------------------"
   ]
  },
  {
   "cell_type": "markdown",
   "metadata": {},
   "source": [
    "Once you are done, you will call your cost function using the initial value of\n",
    "θ (initialized to all zeros). You should see that the cost is about 0.693. "
   ]
  },
  {
   "cell_type": "code",
   "execution_count": 23,
   "metadata": {},
   "outputs": [
    {
     "data": {
      "text/plain": [
       "0.6931471805599452"
      ]
     },
     "execution_count": 23,
     "metadata": {},
     "output_type": "execute_result"
    }
   ],
   "source": [
    "# Let's check that the cost function returns a cost of 0.693 with zeros for initial theta,\n",
    "# and regularized x values\n",
    "initial_theta = np.zeros((mappedX.shape[1],1))\n",
    "computeCost(initial_theta,mappedX,y)"
   ]
  },
  {
   "cell_type": "markdown",
   "metadata": {},
   "source": [
    "**2.3.2 [15pts] Learning parameters using *minimize***\n",
    "\n",
    "You will use *optimize.minimize* to learn the optimal parameters $\\theta$. If you\n",
    "have completed the cost and gradient for regularized logistic regression correctly, you should be able to learn the parameters\n",
    "$\\theta$ using *minimize*. Implement the function *optimizeRegularizedTheta* below.  "
   ]
  },
  {
   "cell_type": "code",
   "execution_count": 21,
   "metadata": {},
   "outputs": [
    {
     "name": "stdout",
     "output_type": "stream",
     "text": [
      "Optimization terminated successfully.\n",
      "         Current function value: 0.225651\n",
      "         Iterations: 604\n",
      "         Function evaluations: 18570\n",
      "         Gradient evaluations: 619\n",
      "[   29.48327426    36.29128054    56.58700615  -287.4026685   -160.79982444\n",
      "  -155.73882987  -241.53092685  -494.66866802  -410.2652536   -271.48745027\n",
      "   912.79725115  1022.29993025  1462.2712588    736.09105031   370.74969556\n",
      "   383.74681355   972.65412172  1449.7992487   1559.24961615   928.65947351\n",
      "   392.99757015  -953.33895156 -1619.35411328 -2802.92148894 -2791.12467878\n",
      " -2711.7563065  -1293.27862506  -439.34759694]\n",
      "0.22565079539110527\n"
     ]
    }
   ],
   "source": [
    "def optimizeRegularizedTheta(mytheta,myX,myy,mylambda=0.):\n",
    "    # -----------------------------------------------------------------\n",
    "    result = optimize.minimize(computeCost, x0=mytheta, args=(myX, myy, mylambda), options={'maxiter': 10000, 'disp': True})\n",
    "    return result.x, result.fun\n",
    "    # -----------------------------------------------------------------\n",
    "\n",
    "theta, mincost = optimizeRegularizedTheta(initial_theta,mappedX,y)\n",
    "print(theta)\n",
    "print(mincost)"
   ]
  },
  {
   "cell_type": "markdown",
   "metadata": {},
   "source": [
    "**2.4 Plotting the decision boundary**\n",
    "\n",
    "To help you visualize the model learned by this classifier, we have provided the function\n",
    "*plotBoundary* which plots the (non-linear) decision boundary that separates the\n",
    "positive and negative examples. "
   ]
  },
  {
   "cell_type": "code",
   "execution_count": 22,
   "metadata": {
    "collapsed": true
   },
   "outputs": [],
   "source": [
    "def plotBoundary(mytheta, myX, myy, mylambda=0.):\n",
    "    \"\"\"\n",
    "    Function to plot the decision boundary for arbitrary theta, X, y, lambda value\n",
    "    Inside of this function is feature mapping, and the minimization routine.\n",
    "    It works by making a grid of x1 (\"xvals\") and x2 (\"yvals\") points,\n",
    "    And for each, computing whether the hypothesis classifies that point as\n",
    "    True or False. Then, a contour is drawn with a built-in pyplot function.\n",
    "    \"\"\"\n",
    "    theta, mincost = optimizeRegularizedTheta(mytheta,myX,myy,mylambda)\n",
    "    xvals = np.linspace(-1,1.5,50)\n",
    "    yvals = np.linspace(-1,1.5,50)\n",
    "    zvals = np.zeros((len(xvals),len(yvals)))\n",
    "    for i in range(len(xvals)):\n",
    "        for j in range(len(yvals)):\n",
    "            myfeaturesij = mapFeature(np.array([xvals[i]]),np.array([yvals[j]]))\n",
    "            zvals[i][j] = np.dot(theta,myfeaturesij.T)\n",
    "    zvals = zvals.transpose()\n",
    "\n",
    "    u, v = np.meshgrid( xvals, yvals )\n",
    "    mycontour = plt.contour( xvals, yvals, zvals, [0])\n",
    "    # display text on top of the decision boundary\n",
    "    plotData()\n",
    "    myfmt = { 0:'Lambda = %d'%mylambda}\n",
    "    plt.clabel(mycontour, inline=1, fontsize=15, fmt=myfmt)\n",
    "    plt.title(\"Decision Boundary\")"
   ]
  },
  {
   "cell_type": "markdown",
   "metadata": {},
   "source": [
    "**2.4.1 [10pts] Plot Decision Boundaries**\n",
    "\n",
    "(a) [4 pts] Use *plotBoundary* to obtain four subplots of the decision boundary for the following values of the regularization parameter: $\\lambda \\ = \\ 0, 1, 10, 100$\n",
    "\n",
    "(b) [2 pts] Comment on which plots are overfitting and which plots are underfitting.\n",
    "\n",
    "(c) [2 pts] Which is the model with the highest bias? The highest variance?\n",
    "\n",
    "(d) [2 pts] What is another way to detect overfitting?"
   ]
  },
  {
   "cell_type": "code",
   "execution_count": 23,
   "metadata": {},
   "outputs": [
    {
     "name": "stdout",
     "output_type": "stream",
     "text": [
      "Optimization terminated successfully.\n",
      "         Current function value: 0.225651\n",
      "         Iterations: 604\n",
      "         Function evaluations: 18570\n",
      "         Gradient evaluations: 619\n",
      "Optimization terminated successfully.\n",
      "         Current function value: 0.535160\n",
      "         Iterations: 46\n",
      "         Function evaluations: 1410\n",
      "         Gradient evaluations: 47\n",
      "Optimization terminated successfully.\n",
      "         Current function value: 0.651183\n",
      "         Iterations: 19\n",
      "         Function evaluations: 600\n",
      "         Gradient evaluations: 20\n",
      "Optimization terminated successfully.\n",
      "         Current function value: 0.686527\n",
      "         Iterations: 4\n",
      "         Function evaluations: 150\n",
      "         Gradient evaluations: 5\n"
     ]
    },
    {
     "data": {
      "image/png": "[encoded data removed]",
      "text/plain": [
       "<matplotlib.figure.Figure at 0x112126a20>"
      ]
     },
     "metadata": {},
     "output_type": "display_data"
    }
   ],
   "source": [
    "# (a) Build a figure showing contours for various values of regularization parameter, lambda\n",
    "\n",
    "# -----------------------------------------------------------------\n",
    "fig = plt.figure(figsize=(15,13))\n",
    "\n",
    "fig.add_subplot(221)\n",
    "plotBoundary(initial_theta,mappedX,y,0)\n",
    "\n",
    "fig.add_subplot(222)\n",
    "plotBoundary(initial_theta,mappedX,y,1)\n",
    "\n",
    "fig.add_subplot(223)\n",
    "plotBoundary(initial_theta,mappedX,y,10)\n",
    "\n",
    "fig.add_subplot(224)\n",
    "plotBoundary(initial_theta,mappedX,y,100)\n",
    "# -----------------------------------------------------------------"
   ]
  },
  {
   "cell_type": "markdown",
   "metadata": {},
   "source": [
    "**[Click here to insert your solution for (b), (c), and (d)]**\n",
    "\n",
    "(b) Lambda = 0 is overfitting whereas Lambda = 100 is underfitting\n",
    "\n",
    "(c) Underfitting model (Lambda = 100) tends to have the highest bias but lowest variance, while overfitting model (Lambda = 0) tends to have the lowest bias but highest variance. \n",
    "\n",
    "(d) Overfitting models tend to have lower cost, larger iterations, Function evaluations, and Gradient evaluations\n",
    "\n",
    "Right Answer:\n",
    "Plot the train and test loss as a function of lambda, the point where the training loss \n",
    "continues to decrease but the testing loss increases and continues to increase is when \n",
    "the model starts overfitting."
   ]
  },
  {
   "cell_type": "markdown",
   "metadata": {},
   "source": [
    "### 3. Written part\n",
    "\n",
    "These problems are extremely important preparation for the exam. Submit solutions to each problem by filling the markdown cells below.\n",
    "\n",
    "**3.1 [10pts]** Maximum likelihood for Logistic Regression\n",
    "\n",
    "Showing all steps, derive the LR cost function using maximum likelihood. Assume that\n",
    "the probability of y given x is described by:\n",
    "\n",
    "$P(\\ y=1 \\; \\vert \\; x \\ ; \\ \\theta \\ ) = h_{\\theta}(x)$ \n",
    "\n",
    "$P(\\ y=0 \\; \\vert \\; x \\ ; \\ \\theta \\ ) = 1 - h_{\\theta}(x)$\n",
    "\n",
    "\n",
    "\n"
   ]
  },
  {
   "cell_type": "markdown",
   "metadata": {},
   "source": [
    "**[Click here to insert your solution]**\n",
    "$$\\mathcal L (x^{(i)}|\\mu) = \\mu^{x^{(i)}} (1-\\mu)^{1-{x^{(i)}}}$$\n",
    "\n",
    "$$ P(D|\\mu) = \\prod_i \\mathcal L (x^{(i)}|\\mu)$$\n",
    "\n",
    "In this case we have:\n",
    "\n",
    "$$L(\\theta) = \\prod_i \\mathcal h_{\\theta}(x)^{y^{(i)}} (1-h_{\\theta}(x))^{1-y^{(i)}}$$\n",
    "\n",
    "Since log is a monotonic transformation, we have:\n",
    "\n",
    "$$ \\ln L(\\theta) = l(\\theta)= \\sum_i(\\ln h_{\\theta}(x)^{y^{(i)}} + \\ln (1-h_{\\theta}(x))^{1-y^{(i)}})$$\n",
    "\n",
    "$$ l(\\theta) = \\sum_iy^{(i)}\\ln h_{\\theta}(x) + (1-y^{(i)})\\ln (1-h_{\\theta}(x))$$\n",
    "\n",
    "The cost function is the averaged total cost from all observations, so:\n",
    "\n",
    "$$ J(\\theta) = \\frac{1}{m} \\sum_{i=1}^{m}y^{(i)}logh_{\\theta}(x^{(i)}) + (1-y^{(i)})log(1 - h_{\\theta}(x^{(i)})) $$ \n",
    "\n",
    "With maximum likelihood approach, the goal is to maximize this log-likelihood function. This is the same as minimizing the negative of the above function. So the cost can also be written as:\n",
    "\n",
    "$$ J(\\theta) = -\\frac{1}{m} \\sum_{i=1}^{m}y^{(i)}logh_{\\theta}(x^{(i)}) + (1-y^{(i)})log(1 - h_{\\theta}(x^{(i)})) $$\n"
   ]
  },
  {
   "cell_type": "markdown",
   "metadata": {},
   "source": [
    "**3.2 [10pts]** Logistic Regression Classification with Label Noise\n",
    "\n",
    "Suppose you are building a logistic regression classifier for images of dogs, represented by a feature vector x, into one of two categories $y \\in \\{0,1\\}$, where 0 is “terrier” and 1 is “husky.” You decide to use the logistic regression model $p(y = 1 \\ \\vert \\ x) = h_{\\theta}(x)=\\theta^Tx.$ You collected an image dataset **D**$\\ = \\{x^{(i)},t^{(i)}\\}$, however, you were very tired and made\n",
    "some mistakes in assigning labels $t^{(i)}.$ You estimate that you were correct in about $\\tau$ fraction of all cases.\n",
    "\n",
    "(a) Write down the equation for the posterior probability $p(t = 1 \\ \\vert \\ x)$ of the label being 1 for some point x, in terms of the probability of the true class, $p(y = 1 \\ \\vert \\ x).$\n",
    "\n",
    "(b) Derive the modified cost function in terms of $\\ \\theta, x^{(i)},t^{(i)}$ and $\\tau$."
   ]
  },
  {
   "cell_type": "markdown",
   "metadata": {},
   "source": [
    "**[Click here to insert your solution]**\n",
    "\n",
    "(a) \n",
    "\n",
    "$ P(t = 1 \\; \\vert \\; x) = P(y = 1 \\; \\vert \\; x)P(getting \\; it \\; correctly) + P(y = 0 \\; \\vert \\; x)P(getting \\;it \\; incorrectly) $\n",
    "\n",
    "$ = \\tau P(y = 1 \\; \\vert \\; x) + (1 - \\tau) P(y = 0 \\; \\vert \\;x) $\n",
    "\n",
    "$ = \\tau P(y = 1 \\; \\vert \\; x) + (1 - \\tau) (1 - P(y = 1 \\; \\vert \\;x)) $\n",
    "\n",
    "$ = (2\\tau - 1)P(y = 1 \\; \\vert \\; x) + (1 - \\tau) $\n",
    "\n",
    "(b)\n",
    "\n",
    "As we have derived cost function: \n",
    "\n",
    "$$ J(\\theta) = -\\frac{1}{m} \\sum_{i=1}^{m}y^{(i)}logh_{\\theta}(x^{(i)}) + (1-y^{(i)})log(1 - h_{\\theta}(x^{(i)})) $$\n",
    "\n",
    "With the expression for $P(t = 1 \\; \\vert \\; x)$ dervied from part (a), we can just substitute: $y^{(i)} \\; \\; by \\; \\; t^{(i)}$ and $h_{\\theta}(x^{(i)}) = P(y = 1 \\; \\vert \\; x) \\; \\; by \\;  \\; (2\\tau - 1)h_{\\theta}(x^{(i)}) + (1 - \\tau)$ \n",
    "\n",
    "The new cost function is then:\n",
    "\n",
    "$$ J(\\theta) = -\\frac{1}{m} \\sum_{i=1}^{m}t^{(i)}log[(2\\tau - 1)h_{\\theta}(x^{(i)}) + (1 - \\tau)] + (1 - t^{(i)})log[(1 - 2\\tau)h_{\\theta}(x^{(i)}) + \\tau] $$"
   ]
  },
  {
   "cell_type": "markdown",
   "metadata": {},
   "source": [
    "**3.3 [10pts] Cross-entropy loss for multiclass classification**\n",
    "\n",
    "This problem asks you to derive the cross-entropy loss for a multiclass classification problem using maximum likelihood.\n",
    "Consider the multiclass classification problem in which each input is assigned to one of $K$ mutually exclusive classes. The binary target variables $y_k$ ∈ {0, 1} have a \"one-hot\" coding scheme, where the value is 1 for the indicated class and 0 for all others. Assume that we can interpret the network outputs as $h_k(x,\\theta) = p(y_k = 1|x)$, or the probability of the kth class.\n",
    "\n",
    "Show that the maximum likelihood estimate of the parameters $\\theta$ can be obtained by minimizing the multiclass *cross-entropy* loss function \n",
    "<p>\n",
    "$L(\\theta)= - \\frac{1}{N}\\sum_{i=1}^{N} \\sum_{k=1}^{K} y_{ik} \\log(h_k(x_i,\\theta))$\n",
    "</p>\n",
    "<p>\n",
    "where $N$ is the number of examples $\\{x_i,y_i\\}$. </p>"
   ]
  },
  {
   "cell_type": "markdown",
   "metadata": {},
   "source": [
    "**[Click here to insert your solution]**\n",
    "\n",
    "Instead of binary response where $y_i = 0$ or $y_i = 1$ in logistic regression, here we have a multinomial response where $y_i$ can take on any of the K outcomes: $y_i = 1, 2, 3, ..., K$\n",
    "\n",
    "$P(y_ik = 1|x) = h_k(x_i,\\theta)$ = probability that $y_i$ belongs to class k given x\n",
    "\n",
    "For data point i:\n",
    "\n",
    "$$P(y_{ik} = 1|x) = P(y_{i1} = 1 \\vert x)^{y_{i1}}P(y_{i2} = 1 \\vert x)^{y_{i2}}......P(y_{ik} = 1 \\vert x)^{y_{ik}}$$\n",
    "\n",
    "Since only one element in the collection ${ y_{i1}, y_{i2}, ..., y_{ik} }$ is 1 and all other elements are 0, the above expression only retain the term $P(y_{ij} = 1 \\vert x)^{y_{ij}}$ where $j \\in (1, 2, ..., k)$, all other terms reduce to 1, so:\n",
    "\n",
    "$$P(y_{ik} = 1|x) = \\prod_{k = 1}^{K}P(y_{ik} = 1|x)^{y_{ik}} \\; \\; \\; (for \\; any\\; data \\; point \\; i)$$\n",
    "\n",
    "For all data points i = 1, 2, ..., N, taking the product on both sides over i:\n",
    "\n",
    "$$\\prod_{i = 1}^{N}P(y_{ik} = 1|x) = \\prod_{i = 1}^{N}\\prod_{k = 1}^{K}P(y_{ik} = 1|x)^{y_{ik}} = \\prod_{i = 1}^{N}\\prod_{k = 1}^{K}h_k(x_i,\\theta)^{y_{ik}} $$\n",
    "\n",
    "The expression above is the likelihood function (joint probability) of all observed data. Taking the natural log of the expression above and normalize by the number of data points we obtain the log likelihood function:\n",
    "\n",
    "$$l(\\theta)= \\frac{1}{N}\\sum_{i=1}^{N} \\sum_{k=1}^{K} y_{ik} \\log(h_k(x_i,\\theta))$$\n",
    "\n",
    "With maximum likelihood approach, the goal is to maximize this log-likelihood function. This is the same as minimizing the negative of the above function. So the cost can also be written as:\n",
    "\n",
    "$$J(\\theta)= -\\frac{1}{N}\\sum_{i=1}^{N} \\sum_{k=1}^{K} y_{ik} \\log(h_k(x_i,\\theta))$$"
   ]
  }
 ],
 "metadata": {
  "anaconda-cloud": {},
  "kernelspec": {
   "display_name": "Python 3",
   "language": "python",
   "name": "python3"
  },
  "language_info": {
   "codemirror_mode": {
    "name": "ipython",
    "version": 3
   },
   "file_extension": ".py",
   "mimetype": "text/x-python",
   "name": "python",
   "nbconvert_exporter": "python",
   "pygments_lexer": "ipython3",
   "version": "3.6.1"
  }
 },
 "nbformat": 4,
 "nbformat_minor": 1
}
